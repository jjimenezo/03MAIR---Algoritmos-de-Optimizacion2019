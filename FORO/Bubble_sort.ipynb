{
  "nbformat": 4,
  "nbformat_minor": 0,
  "metadata": {
    "colab": {
      "name": "Bubble_sort.ipynb",
      "provenance": [],
      "authorship_tag": "ABX9TyPUe2HwzMlMBntfTRBTlYQQ",
      "include_colab_link": true
    },
    "kernelspec": {
      "name": "python3",
      "display_name": "Python 3"
    }
  },
  "cells": [
    {
      "cell_type": "markdown",
      "metadata": {
        "id": "view-in-github",
        "colab_type": "text"
      },
      "source": [
        "<a href=\"https://colab.research.google.com/github/jjimenezo/03MAIR---Algoritmos-de-Optimizacion2019/blob/master/FORO/Bubble_sort.ipynb\" target=\"_parent\"><img src=\"https://colab.research.google.com/assets/colab-badge.svg\" alt=\"Open In Colab\"/></a>"
      ]
    },
    {
      "cell_type": "code",
      "metadata": {
        "id": "-Qi7pJbyGZn1",
        "colab_type": "code",
        "colab": {
          "base_uri": "https://localhost:8080/",
          "height": 68
        },
        "outputId": "ae678e56-9b1e-43c0-935f-11f375277435"
      },
      "source": [
        "import numpy as np \n",
        "\n",
        "def bubbleSort(arr):\n",
        "    n = len(arr)\n",
        "    for i in range(n):\n",
        "        for j in range(0, n-i-1):\n",
        "            if arr[j] > arr[j+1] :\n",
        "                arr[j], arr[j+1] = arr[j+1], arr[j]\n",
        "\n",
        "arr = np.random.randint(100, size=10)\n",
        "\n",
        "print (\"Array original: \" + str(arr) + '\\n') \n",
        "\n",
        "bubbleSort(arr)\n",
        "\n",
        "print (\"Algoritmo de ordenación por burbuja: \" + str(arr))"
      ],
      "execution_count": 35,
      "outputs": [
        {
          "output_type": "stream",
          "text": [
            "Array original: [29  8 15 93 68 78 44 11 95 29]\n",
            "\n",
            "Algoritmo de ordenación por burbuja: [ 8 11 15 29 29 44 68 78 93 95]\n"
          ],
          "name": "stdout"
        }
      ]
    }
  ]
}