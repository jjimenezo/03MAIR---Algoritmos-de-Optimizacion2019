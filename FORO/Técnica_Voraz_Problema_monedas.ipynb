{
  "nbformat": 4,
  "nbformat_minor": 0,
  "metadata": {
    "colab": {
      "name": "Técnica Voraz Problema monedas.ipynb",
      "provenance": [],
      "authorship_tag": "ABX9TyMmtEB4voSIynbEg3lVYhnU",
      "include_colab_link": true
    },
    "kernelspec": {
      "name": "python3",
      "display_name": "Python 3"
    }
  },
  "cells": [
    {
      "cell_type": "markdown",
      "metadata": {
        "id": "view-in-github",
        "colab_type": "text"
      },
      "source": [
        "<a href=\"https://colab.research.google.com/github/jjimenezo/03MAIR---Algoritmos-de-Optimizacion2019/blob/master/FORO/T%C3%A9cnica_Voraz_Problema_monedas.ipynb\" target=\"_parent\"><img src=\"https://colab.research.google.com/assets/colab-badge.svg\" alt=\"Open In Colab\"/></a>"
      ]
    },
    {
      "cell_type": "code",
      "metadata": {
        "id": "7I1NrxtlJ4EB",
        "colab_type": "code",
        "colab": {
          "base_uri": "https://localhost:8080/",
          "height": 136
        },
        "outputId": "5e450288-dbc3-464a-8d2d-ff3feeba9297"
      },
      "source": [
        "import numpy as np\n",
        "\n",
        "x = []\n",
        "def coin_problem(monedas, valor): \n",
        "  monedas.sort() \n",
        "  \n",
        "  while sum(x) != valor and len(monedas)>0:       \n",
        "    if sum(x) + monedas[-1] <= valor: \n",
        "      x.append(monedas[-1]) \n",
        "    else: \n",
        "      monedas = monedas[:-1] \n",
        "  if sum(x) == valor: \n",
        "    return x \n",
        "  \n",
        "monedas = [500,200,100,50,20,10,5,2,1]\n",
        "entrega = np.random.randint(500)\n",
        "print('Valor entregado de: ' + str(entrega) + '€\\n')\n",
        "\n",
        "for x in coin_problem(monedas, entrega):\n",
        "  print ('Entrega efectivo por valor de: ' + str(x) + '€')"
      ],
      "execution_count": 45,
      "outputs": [
        {
          "output_type": "stream",
          "text": [
            "Valor entregado de: 472€\n",
            "\n",
            "Entrega efectivo por valor de: 200€\n",
            "Entrega efectivo por valor de: 200€\n",
            "Entrega efectivo por valor de: 50€\n",
            "Entrega efectivo por valor de: 20€\n",
            "Entrega efectivo por valor de: 2€\n"
          ],
          "name": "stdout"
        }
      ]
    }
  ]
}