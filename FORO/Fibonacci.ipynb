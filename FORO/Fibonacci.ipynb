{
  "nbformat": 4,
  "nbformat_minor": 0,
  "metadata": {
    "colab": {
      "name": "Fibonacci.ipynb",
      "provenance": [],
      "authorship_tag": "ABX9TyORAlF5THNZLxojMyA5nujK",
      "include_colab_link": true
    },
    "kernelspec": {
      "name": "python3",
      "display_name": "Python 3"
    }
  },
  "cells": [
    {
      "cell_type": "markdown",
      "metadata": {
        "id": "view-in-github",
        "colab_type": "text"
      },
      "source": [
        "<a href=\"https://colab.research.google.com/github/jjimenezo/03MAIR---Algoritmos-de-Optimizacion2019/blob/master/FORO/Fibonacci.ipynb\" target=\"_parent\"><img src=\"https://colab.research.google.com/assets/colab-badge.svg\" alt=\"Open In Colab\"/></a>"
      ]
    },
    {
      "cell_type": "code",
      "metadata": {
        "id": "1T5AiRCSXIm6",
        "colab_type": "code",
        "colab": {}
      },
      "source": [
        "#Version recursiva\n",
        "def fib(n):\n",
        "    if n < 2:\n",
        "        return n\n",
        "    else:\n",
        "        return fib(n - 1) + fib(n - 2)\n",
        "\n",
        "#Version iterativa\n",
        "def fib_iter(n):\n",
        "    i,j = 1,0\n",
        "    for k in range(1,n + 1):\n",
        "        i,j = j, i + j\n",
        "    return j\n",
        "\n",
        "#Version divide y venceras\n",
        "def fib_div(n):\n",
        "    if n <= 0:\n",
        "        return 0\n",
        "    i = n - 1\n",
        "    a,b = 1,0\n",
        "    c,d = 0,1\n",
        "    while i > 0:\n",
        "        if i % 2 == 1:\n",
        "            a,b = d*b + c*a, d*(b + a) + c*b\n",
        "        c,d = c**2 + d**2, d*(2*c + d)\n",
        "        i = i / 2\n",
        "    return a + b\n",
        "\n"
      ],
      "execution_count": 0,
      "outputs": []
    }
  ]
}