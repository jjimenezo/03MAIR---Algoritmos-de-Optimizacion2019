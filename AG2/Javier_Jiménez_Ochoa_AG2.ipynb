{
  "nbformat": 4,
  "nbformat_minor": 0,
  "metadata": {
    "colab": {
      "name": "Javier Jiménez Ochoa - AG2.ipynb",
      "provenance": [],
      "authorship_tag": "ABX9TyPbzclm2noE6Wy31Epidr93",
      "include_colab_link": true
    },
    "kernelspec": {
      "name": "python3",
      "display_name": "Python 3"
    }
  },
  "cells": [
    {
      "cell_type": "markdown",
      "metadata": {
        "id": "view-in-github",
        "colab_type": "text"
      },
      "source": [
        "<a href=\"https://colab.research.google.com/github/jjimenezo/03MAIR---Algoritmos-de-Optimizacion2019/blob/master/AG2/Javier_Jim%C3%A9nez_Ochoa_AG2.ipynb\" target=\"_parent\"><img src=\"https://colab.research.google.com/assets/colab-badge.svg\" alt=\"Open In Colab\"/></a>"
      ]
    },
    {
      "cell_type": "markdown",
      "metadata": {
        "id": "Zwa2DZqGExkM",
        "colab_type": "text"
      },
      "source": [
        "### AG2 - Algoritmos de optimización <br>\n",
        "Javier Jiménez Ochoa <br>\n",
        "https://colab.research.google.com/drive/1Q0JlzJxXmbzLS_E1Q_rR_HOc0fGwa7I3<br>\n",
        "![VIU](https://esacademic.com/pictures/eswiki/76/Logo_VIU.png)\n",
        "\n",
        "**1. PROBLEMA VIAJE POR EL RIO**"
      ]
    },
    {
      "cell_type": "code",
      "metadata": {
        "id": "VEXdGpO3EqIz",
        "colab_type": "code",
        "colab": {}
      },
      "source": [
        "TARIFAS = [\n",
        "[0,5,4,3,999,999,999],\n",
        "[999,0,999,2,3,999,11],\n",
        "[999,999, 0,1,999,4,10],\n",
        "[999,999,999, 0,5,6,9],\n",
        "[999,999, 999,999,0,999,4],\n",
        "[999,999, 999,999,999,0,3],\n",
        "[999,999,999,999,999,999,0]]\n",
        "\n",
        "\n",
        "def Precios(TARIFAS):\n",
        "  N = len(TARIFAS[0])\n",
        "\n",
        "  PRECIOS = [ [9999] * N for i in [9999] *N]\n",
        "  RUTA = [[\"\"]*N for i in [\"\"]*N]\n",
        "\n",
        "  for i in range(N - 1):\n",
        "    for j in range(i+1 ,N):\n",
        "      MIN = TARIFAS[i][j]\n",
        "      RUTA[i][j] = i\n",
        "\n",
        "      for k in range(i,j):\n",
        "        if PRECIOS[i][k] + TARIFAS[k][j] < MIN:\n",
        "          MIN = min(MIN, PRECIOS[i][k] + TARIFAS[k][j])\n",
        "          RUTA[i][j] = k\n",
        "        PRECIOS[i][j] = MIN\n",
        "  return PRECIOS, RUTA\n"
      ],
      "execution_count": 0,
      "outputs": []
    },
    {
      "cell_type": "code",
      "metadata": {
        "id": "hQejCP7fKjip",
        "colab_type": "code",
        "colab": {
          "base_uri": "https://localhost:8080/",
          "height": 306
        },
        "outputId": "f26f1928-c19c-4e7a-d013-8d584dc4221b"
      },
      "source": [
        "PRECIOS,RUTA = Precios(TARIFAS)  \n",
        "#print(PRECIOS[0][6])\n",
        "\n",
        "print(\"PRECIOS: \")\n",
        "for i in range(len(TARIFAS)):\n",
        "  print(PRECIOS[i])\n",
        "\n",
        "print(\"\\nRUTA: \")  \n",
        "for i in range(len(TARIFAS)):\n",
        "  print(RUTA[i]) "
      ],
      "execution_count": 13,
      "outputs": [
        {
          "output_type": "stream",
          "text": [
            "PRECIOS: \n",
            "[9999, 5, 4, 3, 8, 8, 11]\n",
            "[9999, 9999, 999, 2, 3, 8, 7]\n",
            "[9999, 9999, 9999, 1, 6, 4, 7]\n",
            "[9999, 9999, 9999, 9999, 5, 6, 9]\n",
            "[9999, 9999, 9999, 9999, 9999, 999, 4]\n",
            "[9999, 9999, 9999, 9999, 9999, 9999, 3]\n",
            "[9999, 9999, 9999, 9999, 9999, 9999, 9999]\n",
            "\n",
            "RUTA: \n",
            "['', 0, 0, 0, 1, 2, 5]\n",
            "['', '', 1, 1, 1, 3, 4]\n",
            "['', '', '', 2, 3, 2, 5]\n",
            "['', '', '', '', 3, 3, 3]\n",
            "['', '', '', '', '', 4, 4]\n",
            "['', '', '', '', '', '', 5]\n",
            "['', '', '', '', '', '', '']\n"
          ],
          "name": "stdout"
        }
      ]
    },
    {
      "cell_type": "code",
      "metadata": {
        "id": "imW_3huBKWqQ",
        "colab_type": "code",
        "colab": {
          "base_uri": "https://localhost:8080/",
          "height": 68
        },
        "outputId": "32a45a1b-71de-473b-98ce-c4e251efcb6a"
      },
      "source": [
        "def calcular_ruta(RUTA, desde, hasta):\n",
        "  if desde == hasta:\n",
        "    return desde \n",
        "  else:\n",
        "    return str(calcular_ruta(RUTA, desde, RUTA[desde][hasta])) +  ',' + str(RUTA[desde][hasta]) \n",
        "\n",
        "print(\"\\nLa ruta es:\")  \n",
        "\n",
        "calcular_ruta(RUTA, 0,6) \n"
      ],
      "execution_count": 28,
      "outputs": [
        {
          "output_type": "stream",
          "text": [
            "\n",
            "La ruta es:\n"
          ],
          "name": "stdout"
        },
        {
          "output_type": "execute_result",
          "data": {
            "text/plain": [
              "'0,0,2,5'"
            ]
          },
          "metadata": {
            "tags": []
          },
          "execution_count": 28
        }
      ]
    },
    {
      "cell_type": "markdown",
      "metadata": {
        "id": "Cxro7ZOFF_1w",
        "colab_type": "text"
      },
      "source": [
        "**2. PROBLEMA ASIGNACIÓN DE TAREAS**\n"
      ]
    },
    {
      "cell_type": "code",
      "metadata": {
        "id": "jVc-0NQEJqR6",
        "colab_type": "code",
        "colab": {
          "base_uri": "https://localhost:8080/",
          "height": 34
        },
        "outputId": "36acf91b-410e-498a-a886-b8e1a214a8d1"
      },
      "source": [
        "COSTES=[[11,12,18,40],\n",
        "        [14,15,13,22],\n",
        "        [11,17,19,23],\n",
        "        [17,14,20,28]]\n",
        "\n",
        "def valor(S,COSTES):\n",
        "  VALOR = 0\n",
        "  for i in range(len(S)):\n",
        "    VALOR += COSTES[S[i]][i] \n",
        "  return VALOR\n",
        "\n",
        "valor((0,1,2,3),COSTES)"
      ],
      "execution_count": 34,
      "outputs": [
        {
          "output_type": "execute_result",
          "data": {
            "text/plain": [
              "73"
            ]
          },
          "metadata": {
            "tags": []
          },
          "execution_count": 34
        }
      ]
    },
    {
      "cell_type": "code",
      "metadata": {
        "id": "XDRaxbkcVMEZ",
        "colab_type": "code",
        "colab": {}
      },
      "source": [
        "def CI(S,COSTES):\n",
        "  VALOR = 0\n",
        "  #Valores establecidos\n",
        "  for i in range(len(S)):\n",
        "    VALOR += COSTES[i][S[i]]\n",
        "\n",
        "  #Estimacion\n",
        "  for i in range(  len(COSTES)):\n",
        "    if i not in S:\n",
        "      VALOR += min( [ COSTES[j][i] for j in range(len(S), len(COSTES))  ])\n",
        "  return VALOR\n",
        "  \n",
        "def CS(S,COSTES):\n",
        "  VALOR = 0\n",
        "  #Valores establecidos\n",
        "  for i in range(len(S)):\n",
        "    VALOR += COSTES[i][S[i]]\n",
        "\n",
        "  #Estimacion\n",
        "  for i in range(  len(COSTES)):\n",
        "    if i not in S:\n",
        "      VALOR += max( [ COSTES[j][i] for j in range(len(S), len(COSTES))  ])\n",
        "  return VALOR\n",
        "  "
      ],
      "execution_count": 0,
      "outputs": []
    },
    {
      "cell_type": "code",
      "metadata": {
        "id": "zU5uV_UoVj6j",
        "colab_type": "code",
        "colab": {}
      },
      "source": [
        "def crear_hijos(NODO, N):\n",
        "  HIJOS = []\n",
        "  for i in range(N):\n",
        "    if i not in NODO:\n",
        "      HIJOS.append({'s':NODO +(i,)    })\n",
        "  return HIJOS"
      ],
      "execution_count": 0,
      "outputs": []
    },
    {
      "cell_type": "code",
      "metadata": {
        "id": "ISC_T0IXWmdj",
        "colab_type": "code",
        "colab": {
          "base_uri": "https://localhost:8080/",
          "height": 255
        },
        "outputId": "e85ccb62-7596-49eb-cd66-7ca176572492"
      },
      "source": [
        "def ramificacion_y_poda(COSTES):\n",
        "#Construccion iterativa de soluciones(arbol). En cada etapa asignamos un agente(ramas).\n",
        "#Nodos del grafo  { s:(1,2),CI:3,CS:5  }\n",
        "  #print(COSTES)\n",
        "  DIMENSION = len(COSTES)  \n",
        "  MEJOR_SOLUCION=tuple( i for i in range(len(COSTES)) )\n",
        "  CotaSup = valor(MEJOR_SOLUCION,COSTES)\n",
        "  #print(\"Cota Superior:\", CotaSup)\n",
        "\n",
        "  NODOS=[]\n",
        "  NODOS.append({'s':(), 'ci':CI((),COSTES)    } )\n",
        "\n",
        "  iteracion = 0\n",
        "\n",
        "  while( len(NODOS) > 0):\n",
        "    iteracion +=1\n",
        "\n",
        "    nodo_prometedor = [ min(NODOS, key=lambda x:x['ci']) ][0]['s']\n",
        "    #print(\"Nodo prometedor:\", nodo_prometedor)\n",
        "\n",
        "    #Ramificacion\n",
        "    #Se generan los hijos\n",
        "    HIJOS =[ {'s':x['s'], 'ci':CI(x['s'], COSTES)   } for x in crear_hijos(nodo_prometedor, DIMENSION) ]\n",
        "\n",
        "    #Revisamos la cota superior y nos quedamos con la mejor solucion si llegamos a una solucion final\n",
        "    NODO_FINAL = [x for x in HIJOS if len(x['s']) == DIMENSION  ]\n",
        "    if len(NODO_FINAL ) >0: \n",
        "      #print(\"\\n********Soluciones:\",  [x for x in HIJOS if len(x['s']) == DIMENSION  ] )\n",
        "      if NODO_FINAL[0]['ci'] < CotaSup:\n",
        "        CotaSup = NODO_FINAL[0]['ci']\n",
        "        MEJOR_SOLUCION = NODO_FINAL\n",
        " \n",
        "    #Poda\n",
        "    HIJOS = [x for x in HIJOS if x['ci'] < CotaSup   ]\n",
        "\n",
        "    #Añadimos los hijos \n",
        "    NODOS.extend(HIJOS) \n",
        "\n",
        "    #Eliminamos el nodo ramificado\n",
        "    NODOS =  [  x for x in NODOS if x['s'] != nodo_prometedor    ]\n",
        "   \n",
        "    print(\"La solucion final es:\" ,MEJOR_SOLUCION , \" en \" , iteracion , \" iteraciones\" , \" para dimension: \" ,DIMENSION  )\n",
        "      \n",
        "\n",
        "\n",
        "ramificacion_y_poda(COSTES)"
      ],
      "execution_count": 38,
      "outputs": [
        {
          "output_type": "stream",
          "text": [
            "La solucion final es: (0, 1, 2, 3)  en  1  iteraciones  para dimension:  4\n",
            "La solucion final es: (0, 1, 2, 3)  en  2  iteraciones  para dimension:  4\n",
            "La solucion final es: (0, 1, 2, 3)  en  3  iteraciones  para dimension:  4\n",
            "La solucion final es: (0, 1, 2, 3)  en  4  iteraciones  para dimension:  4\n",
            "La solucion final es: (0, 1, 2, 3)  en  5  iteraciones  para dimension:  4\n",
            "La solucion final es: [{'s': (0, 2, 3, 1), 'ci': 61}]  en  6  iteraciones  para dimension:  4\n",
            "La solucion final es: [{'s': (0, 2, 3, 1), 'ci': 61}]  en  7  iteraciones  para dimension:  4\n",
            "La solucion final es: [{'s': (0, 2, 3, 1), 'ci': 61}]  en  8  iteraciones  para dimension:  4\n",
            "La solucion final es: [{'s': (0, 2, 3, 1), 'ci': 61}]  en  9  iteraciones  para dimension:  4\n",
            "La solucion final es: [{'s': (0, 2, 3, 1), 'ci': 61}]  en  10  iteraciones  para dimension:  4\n",
            "La solucion final es: [{'s': (0, 2, 3, 1), 'ci': 61}]  en  11  iteraciones  para dimension:  4\n",
            "La solucion final es: [{'s': (0, 2, 3, 1), 'ci': 61}]  en  12  iteraciones  para dimension:  4\n",
            "La solucion final es: [{'s': (0, 2, 3, 1), 'ci': 61}]  en  13  iteraciones  para dimension:  4\n",
            "La solucion final es: [{'s': (0, 2, 3, 1), 'ci': 61}]  en  14  iteraciones  para dimension:  4\n"
          ],
          "name": "stdout"
        }
      ]
    },
    {
      "cell_type": "markdown",
      "metadata": {
        "id": "h6KsKQTvYovU",
        "colab_type": "text"
      },
      "source": [
        "**3.Ramificación y Poda. Análisis para mejorar nota**"
      ]
    },
    {
      "cell_type": "code",
      "metadata": {
        "id": "rAEwCjUWYwyI",
        "colab_type": "code",
        "colab": {}
      },
      "source": [
        "¿Que complejidad tiene el algoritmo por fuerza bruta?\n",
        "- Generar matrices con valores aleatorios de mayores\n",
        "dimensiones (5,6,7,…) y ejecutar ambos algoritmos.\n",
        "- ¿A partir de que dimensión el algoritmo por fuerza bruta\n",
        "deja de ser una opción?\n",
        "- ¿Hay algún valor de la dimensión a partir de la cual el\n",
        "algoritmo de ramificación y poda deja de ser una opción\n",
        "válida?"
      ],
      "execution_count": 0,
      "outputs": []
    }
  ]
}