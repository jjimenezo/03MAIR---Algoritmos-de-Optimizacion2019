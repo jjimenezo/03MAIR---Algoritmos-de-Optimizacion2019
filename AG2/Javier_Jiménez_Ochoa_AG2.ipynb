{
  "nbformat": 4,
  "nbformat_minor": 0,
  "metadata": {
    "colab": {
      "name": "Javier Jiménez Ochoa - AG2.ipynb",
      "provenance": [],
      "authorship_tag": "ABX9TyOknA/foAy9t1rCqDiOSoN5",
      "include_colab_link": true
    },
    "kernelspec": {
      "name": "python3",
      "display_name": "Python 3"
    }
  },
  "cells": [
    {
      "cell_type": "markdown",
      "metadata": {
        "id": "view-in-github",
        "colab_type": "text"
      },
      "source": [
        "<a href=\"https://colab.research.google.com/github/jjimenezo/03MAIR---Algoritmos-de-Optimizacion2019/blob/master/AG2/Javier_Jim%C3%A9nez_Ochoa_AG2.ipynb\" target=\"_parent\"><img src=\"https://colab.research.google.com/assets/colab-badge.svg\" alt=\"Open In Colab\"/></a>"
      ]
    },
    {
      "cell_type": "markdown",
      "metadata": {
        "id": "Zwa2DZqGExkM",
        "colab_type": "text"
      },
      "source": [
        "### AG2 - Algoritmos de optimización <br>\n",
        "Javier Jiménez Ochoa <br>\n",
        "https://colab.research.google.com/drive/1Q0JlzJxXmbzLS_E1Q_rR_HOc0fGwa7I3 <br>\n",
        "<br>\n",
        "**1. PROBLEMA VIAJE POR EL RIO**"
      ]
    },
    {
      "cell_type": "code",
      "metadata": {
        "id": "VEXdGpO3EqIz",
        "colab_type": "code",
        "colab": {}
      },
      "source": [
        ""
      ],
      "execution_count": 0,
      "outputs": []
    },
    {
      "cell_type": "markdown",
      "metadata": {
        "id": "Cxro7ZOFF_1w",
        "colab_type": "text"
      },
      "source": [
        "**2. PROBLEMA ASIGNACIÓN DE TAREAS**\n"
      ]
    }
  ]
}