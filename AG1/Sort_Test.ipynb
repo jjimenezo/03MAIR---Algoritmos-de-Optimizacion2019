{
  "nbformat": 4,
  "nbformat_minor": 0,
  "metadata": {
    "colab": {
      "name": "Untitled1.ipynb",
      "provenance": [],
      "include_colab_link": true
    },
    "kernelspec": {
      "name": "python3",
      "display_name": "Python 3"
    }
  },
  "cells": [
    {
      "cell_type": "markdown",
      "metadata": {
        "id": "view-in-github",
        "colab_type": "text"
      },
      "source": [
        "<a href=\"https://colab.research.google.com/github/jjimenezo/03MAIR---Algoritmos-de-Optimizacion2019/blob/master/AG1/Sort_Test.ipynb\" target=\"_parent\"><img src=\"https://colab.research.google.com/assets/colab-badge.svg\" alt=\"Open In Colab\"/></a>"
      ]
    },
    {
      "cell_type": "code",
      "metadata": {
        "id": "C_XMJRNVIO5X",
        "colab_type": "code",
        "colab": {
          "base_uri": "https://localhost:8080/",
          "height": 170
        },
        "outputId": "b1063692-9b33-4b89-8cab-69053225b625"
      },
      "source": [
        "!pip install sorting\n"
      ],
      "execution_count": 3,
      "outputs": [
        {
          "output_type": "stream",
          "text": [
            "Collecting sorting\n",
            "  Downloading https://files.pythonhosted.org/packages/5a/a7/97e31ce3b9c16f1041bb94063a2778b666ef8ee5862094c248e9445c454c/sorting-1.0.3.tar.gz\n",
            "Building wheels for collected packages: sorting\n",
            "  Building wheel for sorting (setup.py) ... \u001b[?25l\u001b[?25hdone\n",
            "  Created wheel for sorting: filename=sorting-1.0.3-cp36-none-any.whl size=5882 sha256=e659c01408d7ebb933be37677db42f7f654cbd8399621cb29b4d258e7f1c6c19\n",
            "  Stored in directory: /root/.cache/pip/wheels/eb/f9/9d/ea128e53c92937b3f10b15f961f100068615df83d0b7c3affc\n",
            "Successfully built sorting\n",
            "Installing collected packages: sorting\n",
            "Successfully installed sorting-1.0.3\n"
          ],
          "name": "stdout"
        }
      ]
    },
    {
      "cell_type": "code",
      "metadata": {
        "id": "LirWiM2rIyuL",
        "colab_type": "code",
        "colab": {
          "base_uri": "https://localhost:8080/",
          "height": 34
        },
        "outputId": "31537384-511b-4d1c-efee-cf844aee9402"
      },
      "source": [
        "import sorting\n",
        "\n",
        "lista = [44,32,12,60,49,70,-1,0.5]\n",
        "lista_ordenada = sorting.bubble(lista)\n",
        "print(lista_ordenada)"
      ],
      "execution_count": 6,
      "outputs": [
        {
          "output_type": "stream",
          "text": [
            "[-1, 0.5, 12, 32, 44, 49, 60, 70]\n"
          ],
          "name": "stdout"
        }
      ]
    }
  ]
}