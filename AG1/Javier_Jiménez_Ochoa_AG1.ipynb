{
  "nbformat": 4,
  "nbformat_minor": 0,
  "metadata": {
    "colab": {
      "name": "Javier Jiménez Ochoa - AG1.ipynb",
      "provenance": [],
      "authorship_tag": "ABX9TyNNtoEFLE/8H01d2XVCnyiv",
      "include_colab_link": true
    },
    "kernelspec": {
      "name": "python3",
      "display_name": "Python 3"
    }
  },
  "cells": [
    {
      "cell_type": "markdown",
      "metadata": {
        "id": "view-in-github",
        "colab_type": "text"
      },
      "source": [
        "<a href=\"https://colab.research.google.com/github/jjimenezo/03MAIR---Algoritmos-de-Optimizacion2019/blob/master/AG1/Javier_Jim%C3%A9nez_Ochoa_AG1.ipynb\" target=\"_parent\"><img src=\"https://colab.research.google.com/assets/colab-badge.svg\" alt=\"Open In Colab\"/></a>"
      ]
    },
    {
      "cell_type": "markdown",
      "metadata": {
        "id": "bDwgiNfNu6h-",
        "colab_type": "text"
      },
      "source": [
        "### AG1 - Algoritmos de optimización <br>\n",
        "Javier Jiménez Ochoa <br>\n",
        "https://colab.research.google.com/drive/1AfXyeosTEWZVmD_wE07KRkjpQ08vALnH <br>\n",
        "![VIU](https://esacademic.com/pictures/eswiki/76/Logo_VIU.png)\n",
        "\n",
        "**1. PROBLEMA TORRES DE HANOY**"
      ]
    },
    {
      "cell_type": "code",
      "metadata": {
        "id": "YjNu-FO5whDo",
        "colab_type": "code",
        "colab": {
          "base_uri": "https://localhost:8080/",
          "height": 272
        },
        "outputId": "e0587223-b008-41de-d5bf-9569e7ad8ee1"
      },
      "source": [
        "def torres(N,desde,hasta):\n",
        "  if N==1:\n",
        "    print(\"Lleva la ficha desde \" +  str(desde)  + \" hasta \" + str(hasta))\n",
        "  else:\n",
        "    torres(N-1,desde,6-desde-hasta)\n",
        "    print(\"Lleva la ficha desde \" +  str(desde)  + \" hasta \" + str(hasta))\n",
        "    torres(N-1,6-desde-hasta, hasta)\n",
        "\n",
        "torres(4,1,3)"
      ],
      "execution_count": 18,
      "outputs": [
        {
          "output_type": "stream",
          "text": [
            "Lleva la ficha desde 1 hasta 2\n",
            "Lleva la ficha desde 1 hasta 3\n",
            "Lleva la ficha desde 2 hasta 3\n",
            "Lleva la ficha desde 1 hasta 2\n",
            "Lleva la ficha desde 3 hasta 1\n",
            "Lleva la ficha desde 3 hasta 2\n",
            "Lleva la ficha desde 1 hasta 2\n",
            "Lleva la ficha desde 1 hasta 3\n",
            "Lleva la ficha desde 2 hasta 3\n",
            "Lleva la ficha desde 2 hasta 1\n",
            "Lleva la ficha desde 3 hasta 1\n",
            "Lleva la ficha desde 2 hasta 3\n",
            "Lleva la ficha desde 1 hasta 2\n",
            "Lleva la ficha desde 1 hasta 3\n",
            "Lleva la ficha desde 2 hasta 3\n"
          ],
          "name": "stdout"
        }
      ]
    },
    {
      "cell_type": "markdown",
      "metadata": {
        "id": "PVBFP1h3056E",
        "colab_type": "text"
      },
      "source": [
        "**2. PROBLEMA DE LAS 4 REINAS**"
      ]
    },
    {
      "cell_type": "code",
      "metadata": {
        "id": "jgtY_y6IzmhM",
        "colab_type": "code",
        "colab": {
          "base_uri": "https://localhost:8080/",
          "height": 204
        },
        "outputId": "bf5d6f5c-7830-40e9-b60d-53de569defd9"
      },
      "source": [
        "def es_prometedora(SOLUCION,etapa):\n",
        "  print(SOLUCION)\n",
        "  for i in range(etapa+1):\n",
        "    print(\"El valor \" + str(SOLUCION[i]) + \" está \" + \n",
        "          str(SOLUCION.count(SOLUCION[i])) + \" veces.\")\n",
        "    if SOLUCION.count(SOLUCION[i]) > 1: \n",
        "      return False\n",
        "    \n",
        "    for j in range(i+1, etapa+1):\n",
        "      print(\"Comprobando diagonal de \" + str(i) + \" y \" + str(j))\n",
        "      if abs(i-j) == abs(SOLUCION[i] - SOLUCION[j]):\n",
        "        return False\n",
        "  return True\n",
        "\n",
        "def reinas(N,solucion,etapa):\n",
        "  for i in range(1,N+1):\n",
        "    solucion[etapa] = i\n",
        "    \n",
        "    if es_prometedora(solucion,etapa):\n",
        "      if etapa == N-1:\n",
        "        print(\"\\n\\nLa solución es: \" + str(solucion))\n",
        "      else:\n",
        "        print(\"Es prometedora\\n\")\n",
        "        reinas(N,solucion, etapa+1)\n",
        "    else:\n",
        "      print(\"No es prometedora\")\n",
        "      None  \n",
        "    solucion[etapa] = 0\n",
        "\n",
        "reinas(1,[3,1,4,2],1)"
      ],
      "execution_count": 101,
      "outputs": [
        {
          "output_type": "stream",
          "text": [
            "[3, 1, 4, 2]\n",
            "El valor 3 está 1 veces.\n",
            "Comprobando diagonal de 0 y 1\n",
            "El valor 1 está 1 veces.\n",
            "Es prometedora\n",
            "\n",
            "[3, 1, 1, 2]\n",
            "El valor 3 está 1 veces.\n",
            "Comprobando diagonal de 0 y 1\n",
            "Comprobando diagonal de 0 y 2\n",
            "No es prometedora\n"
          ],
          "name": "stdout"
        }
      ]
    }
  ]
}