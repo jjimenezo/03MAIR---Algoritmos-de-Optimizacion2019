{
  "nbformat": 4,
  "nbformat_minor": 0,
  "metadata": {
    "colab": {
      "name": "Javier Jiménez Ochoa - AG3.ipynb",
      "provenance": [],
      "authorship_tag": "ABX9TyPQsDHMR0k4Dw1lzqYdkfM2",
      "include_colab_link": true
    },
    "kernelspec": {
      "name": "python3",
      "display_name": "Python 3"
    }
  },
  "cells": [
    {
      "cell_type": "markdown",
      "metadata": {
        "id": "view-in-github",
        "colab_type": "text"
      },
      "source": [
        "<a href=\"https://colab.research.google.com/github/jjimenezo/03MAIR---Algoritmos-de-Optimizacion2019/blob/master/AG3/Javier_Jim%C3%A9nez_Ochoa_AG3.ipynb\" target=\"_parent\"><img src=\"https://colab.research.google.com/assets/colab-badge.svg\" alt=\"Open In Colab\"/></a>"
      ]
    },
    {
      "cell_type": "markdown",
      "metadata": {
        "id": "HQey8Lwphxdt",
        "colab_type": "text"
      },
      "source": [
        "### AG3 - Algoritmos de optimización <br>\n",
        "Javier Jiménez Ochoa <br>\n",
        "https://colab.research.google.com/drive/1UVLL_hz7grUKr8u7-mAqU-RmkndF4xxw<br>\n",
        "![VIU](https://esacademic.com/pictures/eswiki/76/Logo_VIU.png)\n",
        "\n",
        "**1.**"
      ]
    },
    {
      "cell_type": "code",
      "metadata": {
        "id": "vNKpDGZLhjjp",
        "colab_type": "code",
        "colab": {}
      },
      "source": [
        ""
      ],
      "execution_count": 0,
      "outputs": []
    }
  ]
}