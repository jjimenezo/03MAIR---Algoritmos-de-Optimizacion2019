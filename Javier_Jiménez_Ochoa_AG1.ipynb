{
  "nbformat": 4,
  "nbformat_minor": 0,
  "metadata": {
    "colab": {
      "name": "Javier Jiménez Ochoa - AG1.ipynb",
      "provenance": [],
      "authorship_tag": "ABX9TyPXyfiiFQO10LRM3Lz9f9Th",
      "include_colab_link": true
    },
    "kernelspec": {
      "name": "python3",
      "display_name": "Python 3"
    }
  },
  "cells": [
    {
      "cell_type": "markdown",
      "metadata": {
        "id": "view-in-github",
        "colab_type": "text"
      },
      "source": [
        "<a href=\"https://colab.research.google.com/github/jjimenezo/03MAIR---Algoritmos-de-Optimizacion2019/blob/master/Javier_Jim%C3%A9nez_Ochoa_AG1.ipynb\" target=\"_parent\"><img src=\"https://colab.research.google.com/assets/colab-badge.svg\" alt=\"Open In Colab\"/></a>"
      ]
    },
    {
      "cell_type": "code",
      "metadata": {
        "id": "Hqe4-y9MUE00",
        "colab_type": "code",
        "colab": {}
      },
      "source": [
        ""
      ],
      "execution_count": 0,
      "outputs": []
    },
    {
      "cell_type": "markdown",
      "metadata": {
        "id": "bDwgiNfNu6h-",
        "colab_type": "text"
      },
      "source": [
        "AG1 - Algoritmos de optimización <br>\n",
        "Javier Jiménez Ochoa <br>\n",
        "https://colab.research.google.com/drive/1AfXyeosTEWZVmD_wE07KRkjpQ08vALnH\n"
      ]
    },
    {
      "cell_type": "code",
      "metadata": {
        "id": "YjNu-FO5whDo",
        "colab_type": "code",
        "colab": {
          "base_uri": "https://localhost:8080/",
          "height": 272
        },
        "outputId": "e0587223-b008-41de-d5bf-9569e7ad8ee1"
      },
      "source": [
        "def torres(N,desde,hasta):\n",
        "  if N==1:\n",
        "    print(\"Lleva la ficha desde \" +  str(desde)  + \" hasta \" + str(hasta))\n",
        "  else:\n",
        "    torres(N-1,desde,6-desde-hasta)\n",
        "    print(\"Lleva la ficha desde \" +  str(desde)  + \" hasta \" + str(hasta))\n",
        "    torres(N-1,6-desde-hasta, hasta)\n",
        "\n",
        "torres(4,1,3)"
      ],
      "execution_count": 18,
      "outputs": [
        {
          "output_type": "stream",
          "text": [
            "Lleva la ficha desde 1 hasta 2\n",
            "Lleva la ficha desde 1 hasta 3\n",
            "Lleva la ficha desde 2 hasta 3\n",
            "Lleva la ficha desde 1 hasta 2\n",
            "Lleva la ficha desde 3 hasta 1\n",
            "Lleva la ficha desde 3 hasta 2\n",
            "Lleva la ficha desde 1 hasta 2\n",
            "Lleva la ficha desde 1 hasta 3\n",
            "Lleva la ficha desde 2 hasta 3\n",
            "Lleva la ficha desde 2 hasta 1\n",
            "Lleva la ficha desde 3 hasta 1\n",
            "Lleva la ficha desde 2 hasta 3\n",
            "Lleva la ficha desde 1 hasta 2\n",
            "Lleva la ficha desde 1 hasta 3\n",
            "Lleva la ficha desde 2 hasta 3\n"
          ],
          "name": "stdout"
        }
      ]
    },
    {
      "cell_type": "code",
      "metadata": {
        "id": "jgtY_y6IzmhM",
        "colab_type": "code",
        "colab": {}
      },
      "source": [
        ""
      ],
      "execution_count": 0,
      "outputs": []
    }
  ]
}