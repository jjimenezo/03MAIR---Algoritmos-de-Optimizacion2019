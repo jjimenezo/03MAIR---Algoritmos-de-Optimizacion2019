{
  "nbformat": 4,
  "nbformat_minor": 0,
  "metadata": {
    "colab": {
      "name": "Javier Jiménez Ochoa - AG1.ipynb",
      "provenance": [],
      "authorship_tag": "ABX9TyNCLnlRPfWRhIdplIaWIquS",
      "include_colab_link": true
    },
    "kernelspec": {
      "name": "python3",
      "display_name": "Python 3"
    }
  },
  "cells": [
    {
      "cell_type": "markdown",
      "metadata": {
        "id": "view-in-github",
        "colab_type": "text"
      },
      "source": [
        "<a href=\"https://colab.research.google.com/github/jjimenezo/03MAIR---Algoritmos-de-Optimizacion2019/blob/master/Javier_Jim%C3%A9nez_Ochoa_AG1.ipynb\" target=\"_parent\"><img src=\"https://colab.research.google.com/assets/colab-badge.svg\" alt=\"Open In Colab\"/></a>"
      ]
    },
    {
      "cell_type": "code",
      "metadata": {
        "id": "Hqe4-y9MUE00",
        "colab_type": "code",
        "colab": {}
      },
      "source": [
        ""
      ],
      "execution_count": 0,
      "outputs": []
    },
    {
      "cell_type": "markdown",
      "metadata": {
        "id": "bDwgiNfNu6h-",
        "colab_type": "text"
      },
      "source": [
        "AG1 - Algoritmos de optimización <br>\n",
        "Javier Jiménez Ochoa <br>\n",
        "https://colab.research.google.com/drive/1AfXyeosTEWZVmD_wE07KRkjpQ08vALnH\n"
      ]
    }
  ]
}