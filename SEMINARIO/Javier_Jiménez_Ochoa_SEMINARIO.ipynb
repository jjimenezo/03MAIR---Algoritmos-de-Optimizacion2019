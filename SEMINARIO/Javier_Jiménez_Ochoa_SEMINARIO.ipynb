{
  "nbformat": 4,
  "nbformat_minor": 0,
  "metadata": {
    "colab": {
      "name": "Javier Jiménez Ochoa - SEMINARIO.ipynb",
      "provenance": [],
      "collapsed_sections": [],
      "include_colab_link": true
    },
    "kernelspec": {
      "display_name": "Python 3",
      "language": "python",
      "name": "python3"
    },
    "language_info": {
      "codemirror_mode": {
        "name": "ipython",
        "version": 3
      },
      "file_extension": ".py",
      "mimetype": "text/x-python",
      "name": "python",
      "nbconvert_exporter": "python",
      "pygments_lexer": "ipython3",
      "version": "3.6.6"
    }
  },
  "cells": [
    {
      "cell_type": "markdown",
      "metadata": {
        "id": "view-in-github",
        "colab_type": "text"
      },
      "source": [
        "<a href=\"https://colab.research.google.com/github/jjimenezo/03MAIR---Algoritmos-de-Optimizacion2019/blob/master/SEMINARIO/Javier_Jim%C3%A9nez_Ochoa_SEMINARIO.ipynb\" target=\"_parent\"><img src=\"https://colab.research.google.com/assets/colab-badge.svg\" alt=\"Open In Colab\"/></a>"
      ]
    },
    {
      "cell_type": "markdown",
      "metadata": {
        "colab_type": "text",
        "id": "hVbXYX-RfPWh"
      },
      "source": [
        "# Algoritmos de optimización - Seminario<br>\n",
        "\n",
        "Nombre y Apellidos: Javier Jiménez Ochoa  <br> <br>\n",
        "\n",
        "Url: \n",
        "*  https://github.com/jjimenezo/03MAIR---Algoritmos-de-Optimizacion2019/tree/master/SEMINARIO<br>\n",
        "*  https://colab.research.google.com/github/jjimenezo/03MAIR---Algoritmos-de-Optimizacion2019/blob/master/SEMINARIO/Javier_Jim%C3%A9nez_Ochoa_SEMINARIO.ipynb\n",
        "\n",
        "\n",
        "\n",
        "![VIU](https://esacademic.com/pictures/eswiki/76/Logo_VIU.png)\n",
        "\n",
        "**Problema 3: Combinar cifras y operaciones**\n",
        "\n",
        "\n",
        "---\n",
        "\n",
        "\n",
        "1.   El problema consiste en analizar el siguiente problema y diseñar un algoritmo que lo resuelva.\n",
        "2.   Disponemos de las 9 cifras del 1 al 9 (excluimos el cero) y de los 4 signos básicos de las operaciones fundamentales: suma(+), resta(-), multiplicación(*) y división(/) .\n",
        "3. Debemos combinarlos alternativamente sin repetir ninguno de ellos para obtener una cantidad dada.\n",
        "4. Debe analizarse el problema para encontrar todos los valores enteros posibles planteando las siguientes cuestiones:<br>\n",
        "  4.1 ¿Qué valor máximo y mínimo se pueden obtener según las condiciones del problema?<br>\n",
        "  4.2 ¿Es posible encontrar todos los valores enteros posibles entre dicho mínimo y máximo?<br><br>\n",
        " \n",
        "(*) La respuesta es obligatoria.                                        "
      ]
    },
    {
      "cell_type": "markdown",
      "metadata": {
        "colab_type": "text",
        "id": "3_-exlrTgLd-"
      },
      "source": [
        "(*)¿Cuantas posibilidades hay sin tener en cuenta las restricciones?<br>\n",
        "\n",
        "\n",
        "\n",
        "¿Cuantas posibilidades hay teniendo en cuenta todas las restricciones.\n",
        "\n",
        "\n"
      ]
    },
    {
      "cell_type": "markdown",
      "metadata": {
        "colab_type": "text",
        "id": "WfCUqJyKhPcw"
      },
      "source": [
        "Respuesta"
      ]
    },
    {
      "cell_type": "code",
      "metadata": {
        "colab_type": "code",
        "id": "iq6Fe32MgpDX",
        "colab": {}
      },
      "source": [
        ""
      ],
      "execution_count": 0,
      "outputs": []
    },
    {
      "cell_type": "markdown",
      "metadata": {
        "colab_type": "text",
        "id": "dzynfVJahHoY"
      },
      "source": [
        "Modelo para el espacio de soluciones<br>\n",
        "(*) ¿Cual es la estructura de datos que mejor se adapta al problema? Argumentalo.(Es posible que hayas elegido una al principio y veas la necesidad de cambiar, arguentalo)\n"
      ]
    },
    {
      "cell_type": "markdown",
      "metadata": {
        "colab_type": "text",
        "id": "xFIJrOwKi2Ti"
      },
      "source": [
        "Respuesta"
      ]
    },
    {
      "cell_type": "code",
      "metadata": {
        "colab_type": "code",
        "id": "38c-7-ejhJmA",
        "colab": {}
      },
      "source": [
        ""
      ],
      "execution_count": 0,
      "outputs": []
    },
    {
      "cell_type": "markdown",
      "metadata": {
        "colab_type": "text",
        "id": "7Z9U2W7bi-XS"
      },
      "source": [
        "Según el modelo para el espacio de soluciones<br>\n",
        "(*)¿Cual es la función objetivo?\n",
        "\n",
        "(*)¿Es un problema de maximización o minimización?"
      ]
    },
    {
      "cell_type": "markdown",
      "metadata": {
        "colab_type": "text",
        "id": "hBalWLM7j1_d"
      },
      "source": [
        "Respuesta"
      ]
    },
    {
      "cell_type": "code",
      "metadata": {
        "colab_type": "code",
        "id": "pDA-rg3Gj5Lz",
        "colab": {}
      },
      "source": [
        ""
      ],
      "execution_count": 0,
      "outputs": []
    },
    {
      "cell_type": "markdown",
      "metadata": {
        "colab_type": "text",
        "id": "rlnTYgY1j6I2"
      },
      "source": [
        "Diseña un algoritmo para resolver el problema por fuerza bruta"
      ]
    },
    {
      "cell_type": "markdown",
      "metadata": {
        "colab_type": "text",
        "id": "70rDgxYXkC8r"
      },
      "source": [
        "Respuesta"
      ]
    },
    {
      "cell_type": "code",
      "metadata": {
        "colab_type": "code",
        "id": "CJb5sQ0qkENy",
        "colab": {}
      },
      "source": [
        ""
      ],
      "execution_count": 0,
      "outputs": []
    },
    {
      "cell_type": "markdown",
      "metadata": {
        "colab_type": "text",
        "id": "tgrnsC2nkFa8"
      },
      "source": [
        "Calcula la complejidad del algoritmo por fuerza bruta"
      ]
    },
    {
      "cell_type": "markdown",
      "metadata": {
        "colab_type": "text",
        "id": "9eUd3xwckP68"
      },
      "source": [
        "Respuesta"
      ]
    },
    {
      "cell_type": "code",
      "metadata": {
        "colab_type": "code",
        "id": "rvZWwL-ckRST",
        "colab": {}
      },
      "source": [
        ""
      ],
      "execution_count": 0,
      "outputs": []
    },
    {
      "cell_type": "markdown",
      "metadata": {
        "colab_type": "text",
        "id": "txbrmLmskReM"
      },
      "source": [
        "(*)Diseña un algoritmo que mejore la complejidad del algortimo por fuerza bruta. Argumenta porque crees que mejora el algoritmo por fuerza bruta"
      ]
    },
    {
      "cell_type": "markdown",
      "metadata": {
        "colab_type": "text",
        "id": "hLrVwt5QkZPD"
      },
      "source": [
        "Respuesta"
      ]
    },
    {
      "cell_type": "code",
      "metadata": {
        "colab_type": "code",
        "id": "m1eyM21Vkabg",
        "colab": {
          "base_uri": "https://localhost:8080/",
          "height": 54
        },
        "outputId": "7433fe24-12de-45ae-95b9-36edcb1439e2"
      },
      "source": [
        "from itertools import permutations\n",
        "import random\n",
        "\n",
        "numeros = [\"4\",\"2\",\"6\",\"3\",\"1\"]\n",
        "solucion = 4\n",
        "operaciones = [\"+\",\"-\",\"*\",\"/\"]\n",
        "\n",
        "resultado = []\n",
        "for valores in permutations(numeros,len(numeros)):\n",
        "    for opereraciones_total in permutations(operaciones,len(numeros)-1):\n",
        "        resultado_total = \"\".join(o+v for o,v in zip([\"\"]+list(opereraciones_total),valores))\n",
        "        if eval(formula) == solucion:\n",
        "          resultado.append(resultado_total)\n",
        "\n",
        "if len(resultado) > 0:\n",
        "  print(\"Combinaciones posibles para \" + str(numeros) + \" y resultado de \"+ str(solucion)+ \" --> \"+ str(len(resultado)) +\".\" +  \n",
        "        \"\\nPor ejemplo:\",resultado_total,\"=\",solucion)"
      ],
      "execution_count": 154,
      "outputs": [
        {
          "output_type": "stream",
          "text": [
            "Combinaciones posibles para ['4', '2', '6', '3', '1'] y resultado de 4 --> 2880.\n",
            "Por ejemplo: 1/3*6-2+4 = 4\n"
          ],
          "name": "stdout"
        }
      ]
    },
    {
      "cell_type": "markdown",
      "metadata": {
        "colab_type": "text",
        "id": "eGDB4K6uk1iN"
      },
      "source": [
        "(*)Calcula la complejidad del algoritmo "
      ]
    },
    {
      "cell_type": "markdown",
      "metadata": {
        "colab_type": "text",
        "id": "NhpTh_BPk1ms"
      },
      "source": [
        "Respuesta"
      ]
    },
    {
      "cell_type": "code",
      "metadata": {
        "colab_type": "code",
        "id": "nREzhkStlCq8",
        "colab": {}
      },
      "source": [
        ""
      ],
      "execution_count": 0,
      "outputs": []
    },
    {
      "cell_type": "markdown",
      "metadata": {
        "colab_type": "text",
        "id": "3M6QjTsSkmYe"
      },
      "source": [
        "Según el problema (y tenga sentido), diseña un juego de datos de entrada aleatorios"
      ]
    },
    {
      "cell_type": "markdown",
      "metadata": {
        "colab_type": "text",
        "id": "Jc3_OlyNkvjZ"
      },
      "source": [
        "Respuesta"
      ]
    },
    {
      "cell_type": "code",
      "metadata": {
        "colab_type": "code",
        "id": "sJ-N2etjkyWc",
        "colab": {}
      },
      "source": [
        "import random\n",
        "numbers   = [str(random.randint(1, 10)),str(random.randint(1, 10)),str(random.randint(1, 10)),\n",
        "             str(random.randint(1, 10)),str(random.randint(1, 10))]\n",
        "target    = random.randint(0, 101)"
      ],
      "execution_count": 0,
      "outputs": []
    },
    {
      "cell_type": "markdown",
      "metadata": {
        "colab_type": "text",
        "id": "zy5ZROmjlGo1"
      },
      "source": [
        "Aplica el algoritmo al juego de datos generado"
      ]
    },
    {
      "cell_type": "markdown",
      "metadata": {
        "colab_type": "text",
        "id": "_Cmj-PVylMsa"
      },
      "source": [
        "Respuesta"
      ]
    },
    {
      "cell_type": "code",
      "metadata": {
        "colab_type": "code",
        "id": "Jkx8GeiYlUz1",
        "colab": {
          "base_uri": "https://localhost:8080/",
          "height": 35
        },
        "outputId": "ef7ff36c-1e4b-4cbc-b4fb-0617dd8b6253"
      },
      "source": [
        "from itertools import permutations\n",
        "import random\n",
        "\n",
        "numeros   = [str(random.randint(1, 10)),str(random.randint(1, 10)),str(random.randint(1, 10)),\n",
        "             str(random.randint(1, 10)),str(random.randint(1, 10))]\n",
        "             \n",
        "solucion    = random.randint(0, 101)\n",
        "operaciones = [\"+\",\"-\",\"*\",\"/\"]\n",
        "\n",
        "resultado = []\n",
        "for valores in permutations(numeros,len(numeros)):\n",
        "    for opereraciones_total in permutations(operaciones,len(numeros)-1):\n",
        "        resultado_total = \"\".join(o+v for o,v in zip([\"\"]+list(opereraciones_total),valores))\n",
        "        if eval(formula) == solucion:\n",
        "          resultado.append(resultado_total)\n",
        "\n",
        "if len(resultado) > 0:\n",
        "  print(\"Combinaciones posibles para \" + str(numeros) + \" y resultado de \"+ str(solucion)+ \" --> \"+ str(len(resultado)) +\".\" +  \n",
        "        \"\\nPor ejemplo:\",resultado_total,\"=\",solucion)\n",
        "else:\n",
        "  print(\"No hay combinaciones posibles para\" +str(numeros) + \" y resultado de \"+ str(solucion) +\".\")"
      ],
      "execution_count": 159,
      "outputs": [
        {
          "output_type": "stream",
          "text": [
            "No hay combinaciones posibles para['1', '6', '6', '5', '9'] y resultado de 83.\n"
          ],
          "name": "stdout"
        }
      ]
    },
    {
      "cell_type": "markdown",
      "metadata": {
        "colab_type": "text",
        "id": "eTFWUJQrtGcv"
      },
      "source": [
        "Enumera las referencias que has utilizado(si ha sido necesario) para llevar a cabo el trabajo"
      ]
    },
    {
      "cell_type": "markdown",
      "metadata": {
        "colab_type": "text",
        "id": "YKQ_mRBttWsP"
      },
      "source": [
        "Respuesta"
      ]
    },
    {
      "cell_type": "markdown",
      "metadata": {
        "colab_type": "text",
        "id": "kAkDPUyRtYyH"
      },
      "source": [
        "Describe brevemente las lineas de como crees que es posible avanzar en el estudio del problema. Ten en cuenta incluso posibles variaciones del problema y/o variaciones al alza del tamaño"
      ]
    },
    {
      "cell_type": "markdown",
      "metadata": {
        "colab_type": "text",
        "id": "IE0uZmo-tZu-"
      },
      "source": [
        "Respuesta"
      ]
    }
  ]
}