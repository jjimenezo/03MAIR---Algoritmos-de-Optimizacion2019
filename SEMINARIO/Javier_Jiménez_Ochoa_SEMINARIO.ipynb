{
  "nbformat": 4,
  "nbformat_minor": 0,
  "metadata": {
    "colab": {
      "name": "Javier Jiménez Ochoa - SEMINARIO.ipynb",
      "provenance": [],
      "collapsed_sections": [],
      "include_colab_link": true
    },
    "kernelspec": {
      "display_name": "Python 3",
      "language": "python",
      "name": "python3"
    },
    "language_info": {
      "codemirror_mode": {
        "name": "ipython",
        "version": 3
      },
      "file_extension": ".py",
      "mimetype": "text/x-python",
      "name": "python",
      "nbconvert_exporter": "python",
      "pygments_lexer": "ipython3",
      "version": "3.6.6"
    }
  },
  "cells": [
    {
      "cell_type": "markdown",
      "metadata": {
        "id": "view-in-github",
        "colab_type": "text"
      },
      "source": [
        "<a href=\"https://colab.research.google.com/github/jjimenezo/03MAIR---Algoritmos-de-Optimizacion2019/blob/master/SEMINARIO/Javier_Jim%C3%A9nez_Ochoa_SEMINARIO.ipynb\" target=\"_parent\"><img src=\"https://colab.research.google.com/assets/colab-badge.svg\" alt=\"Open In Colab\"/></a>"
      ]
    },
    {
      "cell_type": "markdown",
      "metadata": {
        "colab_type": "text",
        "id": "hVbXYX-RfPWh"
      },
      "source": [
        "# Algoritmos de optimización - Seminario<br>\n",
        "\n",
        "Nombre y Apellidos: Javier Jiménez Ochoa  <br> <br>\n",
        "\n",
        "Url: \n",
        "*  https://github.com/jjimenezo/03MAIR---Algoritmos-de-Optimizacion2019/tree/master/SEMINARIO<br>\n",
        "*  https://colab.research.google.com/github/jjimenezo/03MAIR---Algoritmos-de-Optimizacion2019/blob/master/SEMINARIO/Javier_Jim%C3%A9nez_Ochoa_SEMINARIO.ipynb\n",
        "\n",
        "\n",
        "\n",
        "![VIU](https://esacademic.com/pictures/eswiki/76/Logo_VIU.png)\n",
        "\n",
        "**Problema 3: Combinar cifras y operaciones**\n",
        "\n",
        "\n",
        "---\n",
        "\n",
        "\n",
        "1.   El problema consiste en analizar el siguiente problema y diseñar un algoritmo que lo resuelva.\n",
        "2.   Disponemos de las 9 cifras del 1 al 9 (excluimos el cero) y de los 4 signos básicos de las operaciones fundamentales: suma(+), resta(-), multiplicación(*) y división(/) .\n",
        "3. Debemos combinarlos alternativamente sin repetir ninguno de ellos para obtener una cantidad dada.\n",
        "4. Debe analizarse el problema para encontrar todos los valores enteros posibles planteando las siguientes cuestiones:<br>\n",
        "  4.1 ¿Qué valor máximo y mínimo se pueden obtener según las condiciones del problema?<br>\n",
        "  4.2 ¿Es posible encontrar todos los valores enteros posibles entre dicho mínimo y máximo?<br><br>\n",
        " \n",
        "(*) La respuesta es obligatoria.    \n",
        "\n",
        "----------------------------------------"
      ]
    },
    {
      "cell_type": "markdown",
      "metadata": {
        "colab_type": "text",
        "id": "3_-exlrTgLd-"
      },
      "source": [
        "####**(*)¿Cuantas posibilidades hay sin tener en cuenta las restricciones?**<br>\n",
        "\n",
        "**¿Cuantas posibilidades hay teniendo en cuenta todas las restricciones.**\n",
        "\n",
        "\n"
      ]
    },
    {
      "cell_type": "markdown",
      "metadata": {
        "colab_type": "text",
        "id": "WfCUqJyKhPcw"
      },
      "source": [
        "**Respuesta**\n",
        "\n",
        "1. El problema tienes tanta soluciones como sean posibles, dado que se realiza en base a una combinatoria de n elementos.\n",
        "2. Si tenemos en cuenta las restrincciones del problema habría que mencionar las principales:<br>\n",
        "          2.1 Que ningún simbolo mátemático puede repetirse.\n",
        "          2.2 Tienen que ser cinco números aleatorios del 1 al 9.\n",
        "  Por tanto dichas restrincciones limitan que se pueda contemplar la solución de cuantas sean posibles, ya que no consta de una combinatoria de n elementos, sino de una combinatoria de n elementos con restrincciones que filtran el bruto del resultado."
      ]
    },
    {
      "cell_type": "code",
      "metadata": {
        "colab_type": "code",
        "id": "iq6Fe32MgpDX",
        "colab": {}
      },
      "source": [
        ""
      ],
      "execution_count": 0,
      "outputs": []
    },
    {
      "cell_type": "markdown",
      "metadata": {
        "colab_type": "text",
        "id": "dzynfVJahHoY"
      },
      "source": [
        "####**Modelo para el espacio de soluciones**<br>\n",
        "**(*) ¿Cual es la estructura de datos que mejor se adapta al problema? Argumentalo.(Es posible que hayas elegido una al principio y veas la necesidad de cambiar, argumentalo)**\n"
      ]
    },
    {
      "cell_type": "markdown",
      "metadata": {
        "colab_type": "text",
        "id": "xFIJrOwKi2Ti"
      },
      "source": [
        "**Respuesta**"
      ]
    },
    {
      "cell_type": "code",
      "metadata": {
        "colab_type": "code",
        "id": "38c-7-ejhJmA",
        "colab": {}
      },
      "source": [
        ""
      ],
      "execution_count": 0,
      "outputs": []
    },
    {
      "cell_type": "markdown",
      "metadata": {
        "colab_type": "text",
        "id": "7Z9U2W7bi-XS"
      },
      "source": [
        "####**Según el modelo para el espacio de soluciones**<br>\n",
        "**(*)¿Cual es la función objetivo?**\n",
        "\n",
        "**(*)¿Es un problema de maximización o minimización?**"
      ]
    },
    {
      "cell_type": "markdown",
      "metadata": {
        "colab_type": "text",
        "id": "hBalWLM7j1_d"
      },
      "source": [
        "**Respuesta**\n",
        "\n",
        "1. Dicho problema no tiene función objetivo, ya que se pregunta que seamos capaces de conseguir diferentes cifras no una concreta como objetivo.\n",
        "\n",
        "2. Si."
      ]
    },
    {
      "cell_type": "code",
      "metadata": {
        "colab_type": "code",
        "id": "pDA-rg3Gj5Lz",
        "colab": {}
      },
      "source": [
        ""
      ],
      "execution_count": 0,
      "outputs": []
    },
    {
      "cell_type": "markdown",
      "metadata": {
        "colab_type": "text",
        "id": "rlnTYgY1j6I2"
      },
      "source": [
        "####**Diseña un algoritmo para resolver el problema por fuerza bruta**"
      ]
    },
    {
      "cell_type": "markdown",
      "metadata": {
        "colab_type": "text",
        "id": "70rDgxYXkC8r"
      },
      "source": [
        "**Respuesta**\n",
        "\n",
        "El algoritmo por fuerza bruta para el problema planteado sería:"
      ]
    },
    {
      "cell_type": "code",
      "metadata": {
        "colab_type": "code",
        "id": "CJb5sQ0qkENy",
        "colab": {}
      },
      "source": [
        "from itertools import permutations\n",
        "import random\n",
        "\n",
        "#Datos de entrada\n",
        "numeros = [\"4\",\"2\",\"6\",\"3\",\"1\"]\n",
        "solucion = 4\n",
        "operaciones = [\"+\",\"-\",\"*\",\"/\"]\n",
        "\n",
        "resultado = []\n",
        "\n",
        "#Permutamos los numeros de forma exhaustiva\n",
        "for valores in permutations(numeros,len(numeros)):\n",
        "    #Igual pero con los simbolos matemáticos\n",
        "    for opereraciones_total in permutations(operaciones,len(numeros)-1):\n",
        "        #Combinamos ambas permutaciones\n",
        "        resultado_total = \"\".join(o+v for o,v in zip([\"\"]+list(opereraciones_total),valores))\n",
        "        #Realizamos la función de selección, excluyendo de la muestra exhaustiva los que sean diferentes a la solución planteada\n",
        "        if eval(resultado_total) == solucion:\n",
        "          resultado.append(resultado_total)\n",
        "\n",
        "if len(resultado) > 0:\n",
        "  print(\"Combinaciones posibles para \" + str(numeros) + \" y resultado de \"+ str(solucion)+ \" --> \"+ str(len(resultado)) +\".\" +  \n",
        "        \"\\nPor ejemplo:\",resultado_total,\"=\",solucion)"
      ],
      "execution_count": 0,
      "outputs": []
    },
    {
      "cell_type": "markdown",
      "metadata": {
        "colab_type": "text",
        "id": "tgrnsC2nkFa8"
      },
      "source": [
        "####**Calcula la complejidad del algoritmo por fuerza bruta**"
      ]
    },
    {
      "cell_type": "markdown",
      "metadata": {
        "colab_type": "text",
        "id": "9eUd3xwckP68"
      },
      "source": [
        "**Respuesta**\n",
        "\n",
        "\n",
        "Se dice que un algoritmo tiene una complejidad de tiempo factorial cuando crece de manera factorial en función del tamaño de los datos de entrada.\n",
        "\n",
        "Para este código se utilizó la herramienta de permutación que permite resultados como tales:<br><br>\n",
        "![image.png](data:image/png;base64,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)\n",
        "\n",
        "Se debe de tener en cuenta de que crecerá de manera factorial, en función del tamaño de datos de entrada. Por lo que podemos decir que este algoritmo tiene una complejidad de tiempo factorial O(n!).\n",
        "\n",
        "En el caso del algoritmo desarrollado la parte que muestra la permutación factorial sería : "
      ]
    },
    {
      "cell_type": "code",
      "metadata": {
        "colab_type": "code",
        "id": "rvZWwL-ckRST",
        "colab": {}
      },
      "source": [
        "#Al añadir permutations estamos considerando un calibre factorial\n",
        "for valores in permutations(numeros,len(numeros)):\n",
        "  \n",
        "    for opereraciones_total in permutations(operaciones,len(numeros)-1):\n",
        "        resultado_total = \"\".join(o+v for o,v in zip([\"\"]+list(opereraciones_total),valores))\n",
        "        if eval(resultado_total) == solucion:\n",
        "          print(resultado_total, \"=\", solucion)"
      ],
      "execution_count": 0,
      "outputs": []
    },
    {
      "cell_type": "markdown",
      "metadata": {
        "colab_type": "text",
        "id": "txbrmLmskReM"
      },
      "source": [
        "####**(*)Diseña un algoritmo que mejore la complejidad del algortimo por fuerza bruta. Argumenta porque crees que mejora el algoritmo por fuerza bruta**"
      ]
    },
    {
      "cell_type": "markdown",
      "metadata": {
        "colab_type": "text",
        "id": "hLrVwt5QkZPD"
      },
      "source": [
        "**Respuesta**<br>\n",
        "\n",
        "4.1 ¿Qué valor máximo y mínimo se pueden obtener según las condiciones del problema?<br>\n",
        "  4.2 ¿Es posible encontrar todos los valores enteros posibles entre dicho mínimo y máximo?<br><br>\n",
        "\n",
        "\n",
        "\n",
        "comentar código"
      ]
    },
    {
      "cell_type": "code",
      "metadata": {
        "colab_type": "code",
        "id": "m1eyM21Vkabg",
        "colab": {
          "base_uri": "https://localhost:8080/",
          "height": 1000
        },
        "outputId": "035ceec5-0c21-4d1b-8100-bd8237595bf0"
      },
      "source": [
        "def toString(List): \n",
        "    return ''.join(List)\n",
        "\n",
        "def permute(a, l, r): \n",
        "    if l==r: \n",
        "      print(toString(a))\n",
        "    else: \n",
        "      for i in range(l,r+1): \n",
        "            a[l], a[i] = a[i], a[l] \n",
        "            permute(a, l+1, r) \n",
        "            a[l], a[i] = a[i], a[l] # backtrack \n",
        "            \n",
        "# Driver program to test the above function \n",
        "\n",
        "string = \"+-*/\"\n",
        "string2 = \"12345\"\n",
        "target = 20\n",
        "\n",
        "\n",
        "permute((list(string)), 0, (len(string)) -1)\n",
        "permute((list(string2)), 0, (len(string2)) -1)\n",
        "\n",
        "# resultado_total = \"\".join(o+v for o,v in zip([\"\"]+list(permute(b, 0, m-1)),permute(a, 0, n-1)))\n",
        "# print(resultado_total)\n",
        "# if eval(resultado_total) == target:\n",
        "#   print(resultado_total, \"=\", target)\n",
        "\n"
      ],
      "execution_count": 4,
      "outputs": [
        {
          "output_type": "stream",
          "text": [
            "+-*/\n",
            "+-/*\n",
            "+*-/\n",
            "+*/-\n",
            "+/*-\n",
            "+/-*\n",
            "-+*/\n",
            "-+/*\n",
            "-*+/\n",
            "-*/+\n",
            "-/*+\n",
            "-/+*\n",
            "*-+/\n",
            "*-/+\n",
            "*+-/\n",
            "*+/-\n",
            "*/+-\n",
            "*/-+\n",
            "/-*+\n",
            "/-+*\n",
            "/*-+\n",
            "/*+-\n",
            "/+*-\n",
            "/+-*\n",
            "12345\n",
            "12354\n",
            "12435\n",
            "12453\n",
            "12543\n",
            "12534\n",
            "13245\n",
            "13254\n",
            "13425\n",
            "13452\n",
            "13542\n",
            "13524\n",
            "14325\n",
            "14352\n",
            "14235\n",
            "14253\n",
            "14523\n",
            "14532\n",
            "15342\n",
            "15324\n",
            "15432\n",
            "15423\n",
            "15243\n",
            "15234\n",
            "21345\n",
            "21354\n",
            "21435\n",
            "21453\n",
            "21543\n",
            "21534\n",
            "23145\n",
            "23154\n",
            "23415\n",
            "23451\n",
            "23541\n",
            "23514\n",
            "24315\n",
            "24351\n",
            "24135\n",
            "24153\n",
            "24513\n",
            "24531\n",
            "25341\n",
            "25314\n",
            "25431\n",
            "25413\n",
            "25143\n",
            "25134\n",
            "32145\n",
            "32154\n",
            "32415\n",
            "32451\n",
            "32541\n",
            "32514\n",
            "31245\n",
            "31254\n",
            "31425\n",
            "31452\n",
            "31542\n",
            "31524\n",
            "34125\n",
            "34152\n",
            "34215\n",
            "34251\n",
            "34521\n",
            "34512\n",
            "35142\n",
            "35124\n",
            "35412\n",
            "35421\n",
            "35241\n",
            "35214\n",
            "42315\n",
            "42351\n",
            "42135\n",
            "42153\n",
            "42513\n",
            "42531\n",
            "43215\n",
            "43251\n",
            "43125\n",
            "43152\n",
            "43512\n",
            "43521\n",
            "41325\n",
            "41352\n",
            "41235\n",
            "41253\n",
            "41523\n",
            "41532\n",
            "45312\n",
            "45321\n",
            "45132\n",
            "45123\n",
            "45213\n",
            "45231\n",
            "52341\n",
            "52314\n",
            "52431\n",
            "52413\n",
            "52143\n",
            "52134\n",
            "53241\n",
            "53214\n",
            "53421\n",
            "53412\n",
            "53142\n",
            "53124\n",
            "54321\n",
            "54312\n",
            "54231\n",
            "54213\n",
            "54123\n",
            "54132\n",
            "51342\n",
            "51324\n",
            "51432\n",
            "51423\n",
            "51243\n",
            "51234\n"
          ],
          "name": "stdout"
        }
      ]
    },
    {
      "cell_type": "markdown",
      "metadata": {
        "colab_type": "text",
        "id": "eGDB4K6uk1iN"
      },
      "source": [
        "####**(*)Calcula la complejidad del algoritmo**"
      ]
    },
    {
      "cell_type": "markdown",
      "metadata": {
        "colab_type": "text",
        "id": "NhpTh_BPk1ms"
      },
      "source": [
        "**Respuesta**\n",
        "\n"
      ]
    },
    {
      "cell_type": "code",
      "metadata": {
        "colab_type": "code",
        "id": "nREzhkStlCq8",
        "colab": {}
      },
      "source": [
        ""
      ],
      "execution_count": 0,
      "outputs": []
    },
    {
      "cell_type": "markdown",
      "metadata": {
        "colab_type": "text",
        "id": "3M6QjTsSkmYe"
      },
      "source": [
        "####**Según el problema (y tenga sentido), diseña un juego de datos de entrada aleatorios**"
      ]
    },
    {
      "cell_type": "markdown",
      "metadata": {
        "colab_type": "text",
        "id": "Jc3_OlyNkvjZ"
      },
      "source": [
        "**Respuesta**\n"
      ]
    },
    {
      "cell_type": "code",
      "metadata": {
        "colab_type": "code",
        "id": "sJ-N2etjkyWc",
        "colab": {}
      },
      "source": [
        "import random\n",
        "numbers   = [str(random.randint(1, 10)),str(random.randint(1, 10)),str(random.randint(1, 10)),\n",
        "             str(random.randint(1, 10)),str(random.randint(1, 10))]\n",
        "target    = random.randint(0, 101)"
      ],
      "execution_count": 0,
      "outputs": []
    },
    {
      "cell_type": "markdown",
      "metadata": {
        "colab_type": "text",
        "id": "zy5ZROmjlGo1"
      },
      "source": [
        "####**Aplica el algoritmo al juego de datos generado**"
      ]
    },
    {
      "cell_type": "markdown",
      "metadata": {
        "colab_type": "text",
        "id": "_Cmj-PVylMsa"
      },
      "source": [
        "**Respuesta**\n"
      ]
    },
    {
      "cell_type": "code",
      "metadata": {
        "colab_type": "code",
        "id": "Jkx8GeiYlUz1",
        "colab": {
          "base_uri": "https://localhost:8080/",
          "height": 51
        },
        "outputId": "8686c735-31e5-4abc-bf99-b059ddad5cb7"
      },
      "source": [
        "from itertools import permutations\n",
        "import random\n",
        "\n",
        "numeros   = [str(random.randint(1, 10)),str(random.randint(1, 10)),str(random.randint(1, 10)),\n",
        "             str(random.randint(1, 10)),str(random.randint(1, 10))]\n",
        "             \n",
        "solucion    = random.randint(0, 101)\n",
        "operaciones = [\"+\",\"-\",\"*\",\"/\"]\n",
        "\n",
        "resultado = []\n",
        "for valores in permutations(numeros,len(numeros)):\n",
        "    for opereraciones_total in permutations(operaciones,len(numeros)-1):\n",
        "        resultado_total = \"\".join(o+v for o,v in zip([\"\"]+list(opereraciones_total),valores))\n",
        "        if eval(resultado_total) == solucion:\n",
        "          resultado.append(resultado_total)\n",
        "\n",
        "if len(resultado) > 0:\n",
        "  print(\"Combinaciones posibles para \" + str(numeros) + \" y resultado de \"+ str(solucion)+ \" --> \"+ str(len(resultado)) +\".\" +  \n",
        "        \"\\nPor ejemplo:\",resultado_total,\"=\",solucion)\n",
        "else:\n",
        "  print(\"No hay combinaciones posibles para\" +str(numeros) + \" y resultado de \"+ str(solucion) +\".\")"
      ],
      "execution_count": 7,
      "outputs": [
        {
          "output_type": "stream",
          "text": [
            "Combinaciones posibles para ['1', '5', '6', '8', '4'] y resultado de 49 --> 32.\n",
            "Por ejemplo: 4/8*6-5+1 = 49\n"
          ],
          "name": "stdout"
        }
      ]
    },
    {
      "cell_type": "markdown",
      "metadata": {
        "colab_type": "text",
        "id": "eTFWUJQrtGcv"
      },
      "source": [
        "####**Enumera las referencias que has utilizado(si ha sido necesario) para llevar a cabo el trabajo**"
      ]
    },
    {
      "cell_type": "markdown",
      "metadata": {
        "colab_type": "text",
        "id": "YKQ_mRBttWsP"
      },
      "source": [
        "**Respuesta**\n",
        "\n",
        "\n",
        "1. https://towardsdatascience.com/understanding-time-complexity-with-python-examples-2bda6e8158a7"
      ]
    },
    {
      "cell_type": "markdown",
      "metadata": {
        "colab_type": "text",
        "id": "kAkDPUyRtYyH"
      },
      "source": [
        "####**Describe brevemente las lineas de como crees que es posible avanzar en el estudio del problema. Ten en cuenta incluso posibles variaciones del problema y/o variaciones al alza del tamaño**"
      ]
    },
    {
      "cell_type": "markdown",
      "metadata": {
        "colab_type": "text",
        "id": "IE0uZmo-tZu-"
      },
      "source": [
        "**Respuesta**\n",
        "\n",
        "fdafasdfasdf"
      ]
    }
  ]
}